{
  "nbformat": 4,
  "nbformat_minor": 0,
  "metadata": {
    "colab": {
      "provenance": [],
      "authorship_tag": "ABX9TyPn2N6Gx3655HfsgO3WOoJs",
      "include_colab_link": true
    },
    "kernelspec": {
      "name": "python3",
      "display_name": "Python 3"
    },
    "language_info": {
      "name": "python"
    }
  },
  "cells": [
    {
      "cell_type": "markdown",
      "metadata": {
        "id": "view-in-github",
        "colab_type": "text"
      },
      "source": [
        "<a href=\"https://colab.research.google.com/github/Siddharth9980/Function_Assignment/blob/main/Function_Assignment_.ipynb\" target=\"_parent\"><img src=\"https://colab.research.google.com/assets/colab-badge.svg\" alt=\"Open In Colab\"/></a>"
      ]
    },
    {
      "cell_type": "markdown",
      "source": [
        "## 1 Write a python function that takes a list of numbers as input and returns the sum of all even numbers in the list.\n",
        "Ans = Here is a Python function that does what you described:"
      ],
      "metadata": {
        "id": "HABRcmf4_3-t"
      }
    },
    {
      "cell_type": "code",
      "execution_count": 1,
      "metadata": {
        "id": "0Lag86i2_m_M"
      },
      "outputs": [],
      "source": [
        "def sum_even_numbers(numbers):\n",
        "    \"\"\"\n",
        "    Returns the sum of all even numbers in the input list.\n",
        "    \"\"\"\n",
        "    even_sum = 0\n",
        "    for num in numbers:\n",
        "        if num % 2 == 0:\n",
        "            even_sum += num\n",
        "    return even_sum"
      ]
    },
    {
      "cell_type": "markdown",
      "source": [
        "Here's an explanation of how the function works:\n",
        "\n",
        "We initialize a variable even_sum to 0, which will store the sum of all even numbers.\n",
        "We iterate over each number in the input list using a for loop.\n",
        "For each number, we check if it's even by using the modulo operator (%). If the remainder of the number divided by 2 is 0, then the number is even.\n",
        "If the number is even, we add it to the even_sum variable.\n",
        "Finally, we return the even_sum variable at the end of the function.\n",
        "You can test this function with a sample list, like this:"
      ],
      "metadata": {
        "id": "aKQAqxPe_27l"
      }
    },
    {
      "cell_type": "code",
      "source": [
        "numbers = [1, 2, 3, 4, 5, 6]\n",
        "result = sum_even_numbers(numbers)\n",
        "print(result)  # Output: 12"
      ],
      "metadata": {
        "colab": {
          "base_uri": "https://localhost:8080/",
          "height": 0
        },
        "id": "jutdsngKBnoc",
        "outputId": "c415804a-4900-4470-f758-775873339dd5"
      },
      "execution_count": 2,
      "outputs": [
        {
          "output_type": "stream",
          "name": "stdout",
          "text": [
            "12\n"
          ]
        }
      ]
    },
    {
      "cell_type": "markdown",
      "source": [
        "## 2- Create a python function  that accepts a string and returns the reverse of that string.\n",
        "Ans =   Here is a Python function that does what you described:"
      ],
      "metadata": {
        "id": "xfQkeNnjBv3W"
      }
    },
    {
      "cell_type": "code",
      "source": [
        "def reverse_string(s):\n",
        "    \"\"\"\n",
        "    Returns the reverse of the input string.\n",
        "    \"\"\"\n",
        "    return s[::-1]"
      ],
      "metadata": {
        "id": "y8s0Jw_yBqaO"
      },
      "execution_count": 3,
      "outputs": []
    },
    {
      "cell_type": "markdown",
      "source": [
        "Here's an explanation of how the function works:\n",
        "\n",
        "We use Python's slice notation to extract the characters of the input string in reverse order.\n",
        "The [::-1] syntax tells Python to start from the end of the string and move backwards to the beginning, stepping backwards by 1 character each time.\n",
        "The resulting reversed string is returned by the function.\n",
        "You can test this function with a sample string, like this:"
      ],
      "metadata": {
        "id": "H7sjnRzQDzjW"
      }
    },
    {
      "cell_type": "code",
      "source": [
        "input_string = \"hello\"\n",
        "result = reverse_string(input_string)\n",
        "print(result)  # Output: \"olleh\""
      ],
      "metadata": {
        "colab": {
          "base_uri": "https://localhost:8080/",
          "height": 0
        },
        "id": "4rK5H-H4DKUM",
        "outputId": "19d8fc0c-e947-4295-a9b2-59ddaf713630"
      },
      "execution_count": 4,
      "outputs": [
        {
          "output_type": "stream",
          "name": "stdout",
          "text": [
            "olleh\n"
          ]
        }
      ]
    },
    {
      "cell_type": "markdown",
      "source": [
        "Let me know if you have any questions or if you'd like me to elaborate on any part of the code!\n",
        "\n",
        "Alternatively, you can also use the reversed function and the join method to achieve the same result:"
      ],
      "metadata": {
        "id": "VhhixRT8D6mx"
      }
    },
    {
      "cell_type": "code",
      "source": [
        "def reverse_string(s):\n",
        "    \"\"\"\n",
        "    Returns the reverse of the input string.\n",
        "    \"\"\"\n",
        "    return \"\".join(reversed(s))"
      ],
      "metadata": {
        "id": "na2AngbFD2r0"
      },
      "execution_count": 5,
      "outputs": []
    },
    {
      "cell_type": "markdown",
      "source": [
        "This function uses the reversed function to reverse the characters of the input string, and then uses the join method to concatenate the reversed characters back into a single string."
      ],
      "metadata": {
        "id": "vQIi9sV3ECkq"
      }
    },
    {
      "cell_type": "markdown",
      "source": [
        "## 3= Implement a python funtion that takes a list of integers and returns a new list containing the squares of each number.\n",
        "Ans =  Here is a Python function that does what you described:"
      ],
      "metadata": {
        "id": "KMQktIkxEWuJ"
      }
    },
    {
      "cell_type": "code",
      "source": [
        "def square_numbers(numbers):\n",
        "    \"\"\"\n",
        "    Returns a new list containing the squares of each number in the input list.\n",
        "    \"\"\"\n",
        "    squared_numbers = [num ** 2 for num in numbers]\n",
        "    return squared_numbers"
      ],
      "metadata": {
        "id": "EZK3LLfHEMma"
      },
      "execution_count": 6,
      "outputs": []
    },
    {
      "cell_type": "markdown",
      "source": [
        "Here's an explanation of how the function works:\n",
        "\n",
        "We use a list comprehension to create a new list containing the squares of each number in the input list.\n",
        "The num ** 2 expression calculates the square of each number.\n",
        "The resulting list of squared numbers is returned by the function.\n",
        "You can test this function with a sample list, like this:"
      ],
      "metadata": {
        "id": "b56C9zGdEFBu"
      }
    },
    {
      "cell_type": "code",
      "source": [
        "numbers = [1, 2, 3, 4, 5]\n",
        "result = square_numbers(numbers)\n",
        "print(result)  # Output: [1, 4, 9, 16, 25]"
      ],
      "metadata": {
        "colab": {
          "base_uri": "https://localhost:8080/",
          "height": 0
        },
        "id": "zBAmZ9w3D9xa",
        "outputId": "28cbf099-d27c-4788-b034-235d4ffb7b0c"
      },
      "execution_count": 7,
      "outputs": [
        {
          "output_type": "stream",
          "name": "stdout",
          "text": [
            "[1, 4, 9, 16, 25]\n"
          ]
        }
      ]
    },
    {
      "cell_type": "markdown",
      "source": [
        "Let me know if you have any questions or if you'd like me to elaborate on any part of the code!\n",
        "\n",
        "Alternatively, you can also use a for loop to achieve the same result:\n",
        "\n",
        "\n",
        "Verify"
      ],
      "metadata": {
        "id": "awcorhuQFP-6"
      }
    },
    {
      "cell_type": "code",
      "source": [
        "def square_numbers(numbers):\n",
        "    \"\"\"\n",
        "    Returns a new list containing the squares of each number in the input list.\n",
        "    \"\"\"\n",
        "    squared_numbers = []\n",
        "    for num in numbers:\n",
        "        squared_numbers.append(num ** 2)\n",
        "    return squared_numbers"
      ],
      "metadata": {
        "id": "oM9-RR5LFOVv"
      },
      "execution_count": 8,
      "outputs": []
    },
    {
      "cell_type": "markdown",
      "source": [
        "This function uses a for loop to iterate over each number in the input list, calculates the square of each number, and appends it to a new list. The resulting list of squared numbers is returned by the function."
      ],
      "metadata": {
        "id": "1F9ASkgDFbSf"
      }
    },
    {
      "cell_type": "markdown",
      "source": [
        "## 4- Write a python that checks if a given number is prime or not from 1 to 200.\n",
        "Ans = Here is a Python function that checks if a given number is prime or not from 1 to 200:"
      ],
      "metadata": {
        "id": "1DpDt4XxFmZN"
      }
    },
    {
      "cell_type": "code",
      "source": [
        "def is_prime(n):\n",
        "    \"\"\"\n",
        "    Returns True if the input number is prime, False otherwise.\n",
        "    \"\"\"\n",
        "    if n <= 1:\n",
        "        return False\n",
        "    for i in range(2, int(n ** 0.5) + 1):\n",
        "        if n % i == 0:\n",
        "            return False\n",
        "    return True\n",
        "\n",
        "# Test the function for numbers from 1 to 200\n",
        "for num in range(1, 201):\n",
        "    if is_prime(num):\n",
        "        print(f\"{num} is a prime number\")\n",
        "    else:\n",
        "        print(f\"{num} is not a prime number\")"
      ],
      "metadata": {
        "colab": {
          "base_uri": "https://localhost:8080/",
          "height": 0
        },
        "id": "UlVB_BpfFVr1",
        "outputId": "52dc1e46-5efa-49a7-8256-19ba240a309d"
      },
      "execution_count": 9,
      "outputs": [
        {
          "output_type": "stream",
          "name": "stdout",
          "text": [
            "1 is not a prime number\n",
            "2 is a prime number\n",
            "3 is a prime number\n",
            "4 is not a prime number\n",
            "5 is a prime number\n",
            "6 is not a prime number\n",
            "7 is a prime number\n",
            "8 is not a prime number\n",
            "9 is not a prime number\n",
            "10 is not a prime number\n",
            "11 is a prime number\n",
            "12 is not a prime number\n",
            "13 is a prime number\n",
            "14 is not a prime number\n",
            "15 is not a prime number\n",
            "16 is not a prime number\n",
            "17 is a prime number\n",
            "18 is not a prime number\n",
            "19 is a prime number\n",
            "20 is not a prime number\n",
            "21 is not a prime number\n",
            "22 is not a prime number\n",
            "23 is a prime number\n",
            "24 is not a prime number\n",
            "25 is not a prime number\n",
            "26 is not a prime number\n",
            "27 is not a prime number\n",
            "28 is not a prime number\n",
            "29 is a prime number\n",
            "30 is not a prime number\n",
            "31 is a prime number\n",
            "32 is not a prime number\n",
            "33 is not a prime number\n",
            "34 is not a prime number\n",
            "35 is not a prime number\n",
            "36 is not a prime number\n",
            "37 is a prime number\n",
            "38 is not a prime number\n",
            "39 is not a prime number\n",
            "40 is not a prime number\n",
            "41 is a prime number\n",
            "42 is not a prime number\n",
            "43 is a prime number\n",
            "44 is not a prime number\n",
            "45 is not a prime number\n",
            "46 is not a prime number\n",
            "47 is a prime number\n",
            "48 is not a prime number\n",
            "49 is not a prime number\n",
            "50 is not a prime number\n",
            "51 is not a prime number\n",
            "52 is not a prime number\n",
            "53 is a prime number\n",
            "54 is not a prime number\n",
            "55 is not a prime number\n",
            "56 is not a prime number\n",
            "57 is not a prime number\n",
            "58 is not a prime number\n",
            "59 is a prime number\n",
            "60 is not a prime number\n",
            "61 is a prime number\n",
            "62 is not a prime number\n",
            "63 is not a prime number\n",
            "64 is not a prime number\n",
            "65 is not a prime number\n",
            "66 is not a prime number\n",
            "67 is a prime number\n",
            "68 is not a prime number\n",
            "69 is not a prime number\n",
            "70 is not a prime number\n",
            "71 is a prime number\n",
            "72 is not a prime number\n",
            "73 is a prime number\n",
            "74 is not a prime number\n",
            "75 is not a prime number\n",
            "76 is not a prime number\n",
            "77 is not a prime number\n",
            "78 is not a prime number\n",
            "79 is a prime number\n",
            "80 is not a prime number\n",
            "81 is not a prime number\n",
            "82 is not a prime number\n",
            "83 is a prime number\n",
            "84 is not a prime number\n",
            "85 is not a prime number\n",
            "86 is not a prime number\n",
            "87 is not a prime number\n",
            "88 is not a prime number\n",
            "89 is a prime number\n",
            "90 is not a prime number\n",
            "91 is not a prime number\n",
            "92 is not a prime number\n",
            "93 is not a prime number\n",
            "94 is not a prime number\n",
            "95 is not a prime number\n",
            "96 is not a prime number\n",
            "97 is a prime number\n",
            "98 is not a prime number\n",
            "99 is not a prime number\n",
            "100 is not a prime number\n",
            "101 is a prime number\n",
            "102 is not a prime number\n",
            "103 is a prime number\n",
            "104 is not a prime number\n",
            "105 is not a prime number\n",
            "106 is not a prime number\n",
            "107 is a prime number\n",
            "108 is not a prime number\n",
            "109 is a prime number\n",
            "110 is not a prime number\n",
            "111 is not a prime number\n",
            "112 is not a prime number\n",
            "113 is a prime number\n",
            "114 is not a prime number\n",
            "115 is not a prime number\n",
            "116 is not a prime number\n",
            "117 is not a prime number\n",
            "118 is not a prime number\n",
            "119 is not a prime number\n",
            "120 is not a prime number\n",
            "121 is not a prime number\n",
            "122 is not a prime number\n",
            "123 is not a prime number\n",
            "124 is not a prime number\n",
            "125 is not a prime number\n",
            "126 is not a prime number\n",
            "127 is a prime number\n",
            "128 is not a prime number\n",
            "129 is not a prime number\n",
            "130 is not a prime number\n",
            "131 is a prime number\n",
            "132 is not a prime number\n",
            "133 is not a prime number\n",
            "134 is not a prime number\n",
            "135 is not a prime number\n",
            "136 is not a prime number\n",
            "137 is a prime number\n",
            "138 is not a prime number\n",
            "139 is a prime number\n",
            "140 is not a prime number\n",
            "141 is not a prime number\n",
            "142 is not a prime number\n",
            "143 is not a prime number\n",
            "144 is not a prime number\n",
            "145 is not a prime number\n",
            "146 is not a prime number\n",
            "147 is not a prime number\n",
            "148 is not a prime number\n",
            "149 is a prime number\n",
            "150 is not a prime number\n",
            "151 is a prime number\n",
            "152 is not a prime number\n",
            "153 is not a prime number\n",
            "154 is not a prime number\n",
            "155 is not a prime number\n",
            "156 is not a prime number\n",
            "157 is a prime number\n",
            "158 is not a prime number\n",
            "159 is not a prime number\n",
            "160 is not a prime number\n",
            "161 is not a prime number\n",
            "162 is not a prime number\n",
            "163 is a prime number\n",
            "164 is not a prime number\n",
            "165 is not a prime number\n",
            "166 is not a prime number\n",
            "167 is a prime number\n",
            "168 is not a prime number\n",
            "169 is not a prime number\n",
            "170 is not a prime number\n",
            "171 is not a prime number\n",
            "172 is not a prime number\n",
            "173 is a prime number\n",
            "174 is not a prime number\n",
            "175 is not a prime number\n",
            "176 is not a prime number\n",
            "177 is not a prime number\n",
            "178 is not a prime number\n",
            "179 is a prime number\n",
            "180 is not a prime number\n",
            "181 is a prime number\n",
            "182 is not a prime number\n",
            "183 is not a prime number\n",
            "184 is not a prime number\n",
            "185 is not a prime number\n",
            "186 is not a prime number\n",
            "187 is not a prime number\n",
            "188 is not a prime number\n",
            "189 is not a prime number\n",
            "190 is not a prime number\n",
            "191 is a prime number\n",
            "192 is not a prime number\n",
            "193 is a prime number\n",
            "194 is not a prime number\n",
            "195 is not a prime number\n",
            "196 is not a prime number\n",
            "197 is a prime number\n",
            "198 is not a prime number\n",
            "199 is a prime number\n",
            "200 is not a prime number\n"
          ]
        }
      ]
    },
    {
      "cell_type": "markdown",
      "source": [
        "Here's an explanation of how the function works:\n",
        "\n",
        "We first check if the input number n is less than or equal to 1, in which case it's not prime.\n",
        "We then use a for loop to iterate from 2 to the square root of n (inclusive), and check if n is divisible by any of these numbers. If it is, then n is not prime.\n",
        "If n is not divisible by any of these numbers, then it's prime, and we return True.\n",
        "In the testing code, we use a for loop to iterate over the numbers from 1 to 200, and call the is_prime function for each number. If the function returns True, we print that the number is prime, otherwise we print that it's not prime.\n",
        "Let me know if you have any questions or if you'd like me to elaborate on any part of the code!\n",
        "Alternatively, you can also use a more concise implementation using a list comprehension:"
      ],
      "metadata": {
        "id": "r9fnbElgGsz6"
      }
    },
    {
      "cell_type": "code",
      "source": [
        "def is_prime(n):\n",
        "    return n > 1 and all(n % i != 0 for i in range(2, int(n ** 0.5) + 1))"
      ],
      "metadata": {
        "id": "kiwTXrEUGNSu"
      },
      "execution_count": 10,
      "outputs": []
    },
    {
      "cell_type": "markdown",
      "source": [
        "This implementation uses the all function to check if n is not divisible by any of the numbers from 2 to the square root of n, and returns True if it's prime, and False otherwise."
      ],
      "metadata": {
        "id": "GC7a8WkZG4OE"
      }
    },
    {
      "cell_type": "markdown",
      "source": [
        "## 5- Create an interator class in the python that generates Fibonacci sequence upto a specified number of terms.\n",
        "Ans = Create an interator class in the python that generates Fibonacci sequence upto a specified number of terms"
      ],
      "metadata": {
        "id": "kqRLRmB3G9gq"
      }
    },
    {
      "cell_type": "code",
      "source": [
        "class FibonacciIterator:\n",
        "    \"\"\"\n",
        "    An iterator class that generates the Fibonacci sequence up to a specified number of terms.\n",
        "    \"\"\"\n",
        "    def __init__(self, num_terms):\n",
        "        \"\"\"\n",
        "        Initialize the iterator with the number of terms to generate.\n",
        "        \"\"\"\n",
        "        self.num_terms = num_terms\n",
        "        self.current_term = 0\n",
        "        self.a, self.b = 0, 1\n",
        "\n",
        "    def __iter__(self):\n",
        "        \"\"\"\n",
        "        Return the iterator object itself.\n",
        "        \"\"\"\n",
        "        return self\n",
        "\n",
        "    def __next__(self):\n",
        "        \"\"\"\n",
        "        Generate the next term in the Fibonacci sequence.\n",
        "        \"\"\"\n",
        "        if self.current_term < self.num_terms:\n",
        "            result = self.a\n",
        "            self.a, self.b = self.b, self.a + self.b\n",
        "            self.current_term += 1\n",
        "            return result\n",
        "        else:\n",
        "            raise StopIteration\n",
        "\n",
        "# Example usage:\n",
        "fib_iterator = FibonacciIterator(10)\n",
        "for term in fib_iterator:\n",
        "    print(term)"
      ],
      "metadata": {
        "colab": {
          "base_uri": "https://localhost:8080/",
          "height": 0
        },
        "id": "ULiouCT0G2O8",
        "outputId": "1d513c6c-ec95-46ae-e529-2d81ec17e269"
      },
      "execution_count": 11,
      "outputs": [
        {
          "output_type": "stream",
          "name": "stdout",
          "text": [
            "0\n",
            "1\n",
            "1\n",
            "2\n",
            "3\n",
            "5\n",
            "8\n",
            "13\n",
            "21\n",
            "34\n"
          ]
        }
      ]
    },
    {
      "cell_type": "markdown",
      "source": [
        "Here's an explanation of how the class works:\n",
        "\n",
        "The __init__ method initializes the iterator with the number of terms to generate, and sets up the initial values of the Fibonacci sequence (a and b).\n",
        "The __iter__ method returns the iterator object itself, which is required for the iterator protocol.\n",
        "The __next__ method generates the next term in the Fibonacci sequence. It checks if the current term is less than the specified number of terms, and if so, returns the current term and updates the values of a and b for the next iteration. If the current term is equal to or greater than the specified number of terms, it raises a StopIteration exception to signal the end of the iteration.\n",
        "You can use the iterator class by creating an instance and iterating over it using a for loop, as shown in the example usage.\n",
        "\n"
      ],
      "metadata": {
        "id": "-30bLVhkIN-r"
      }
    },
    {
      "cell_type": "markdown",
      "source": [
        "## 6 - Write a generator function in python that yields the power of 2 upto a given exponent.\n",
        "Ans = Here is a Python generator function that yields the powers of 2 up to a given exponent:"
      ],
      "metadata": {
        "id": "l5VNLpxiI1wB"
      }
    },
    {
      "cell_type": "code",
      "source": [
        "def powers_of_two(exponent):\n",
        "    \"\"\"\n",
        "    A generator function that yields the powers of 2 up to a given exponent.\n",
        "    \"\"\"\n",
        "    for i in range(exponent + 1):\n",
        "        yield 2 ** i\n",
        "\n",
        "# Example usage:\n",
        "for power in powers_of_two(5):\n",
        "    print(power)"
      ],
      "metadata": {
        "colab": {
          "base_uri": "https://localhost:8080/",
          "height": 0
        },
        "id": "dJ2BTqGzIKBZ",
        "outputId": "3a65a130-835a-4330-9656-100f460cc82b"
      },
      "execution_count": 12,
      "outputs": [
        {
          "output_type": "stream",
          "name": "stdout",
          "text": [
            "1\n",
            "2\n",
            "4\n",
            "8\n",
            "16\n",
            "32\n"
          ]
        }
      ]
    },
    {
      "cell_type": "markdown",
      "source": [
        "Here's an explanation of how the function works:\n",
        "\n",
        "The function takes an exponent parameter, which specifies the maximum exponent to generate.\n",
        "The function uses a for loop to iterate from 0 to the specified exponent.\n",
        "Inside the loop, the function uses the yield keyword to produce the next power of 2. The yield keyword is used to define generators, which are a type of iterable that can be used to generate a sequence of values on the fly.\n",
        "The 2 ** i expression calculates the power of 2 for the current exponent i.\n",
        "The yield statement produces the calculated power of 2, and suspends the function's execution until the next value is requested.\n",
        "The example usage shows how to use the generator function to print the powers of 2 up to the specified exponent.\n",
        "Alternatively, you can also use a more concise implementation using a generator expression:"
      ],
      "metadata": {
        "id": "oDZDJbj-Jkxs"
      }
    },
    {
      "cell_type": "code",
      "source": [
        "def powers_of_two(exponent):\n",
        "    return (2 ** i for i in range(exponent + 1))"
      ],
      "metadata": {
        "id": "i7pChCKpJeS1"
      },
      "execution_count": 13,
      "outputs": []
    },
    {
      "cell_type": "markdown",
      "source": [
        "This implementation uses a generator expression to define the sequence of powers of 2, and returns the resulting generator object."
      ],
      "metadata": {
        "id": "dFoHrwTQJsW4"
      }
    },
    {
      "cell_type": "markdown",
      "source": [
        "## 7- Implement a generator function that reads a file line by line and yields each line as string.\n",
        "Ans = Here is a Python generator function that reads a file line by line and yields each line as a string:"
      ],
      "metadata": {
        "id": "JvjNY_wZJuGK"
      }
    },
    {
      "cell_type": "code",
      "source": [
        "def read_file_line_by_line(file_path):\n",
        "    \"\"\"Generator function that reads a file line by line.\"\"\"\n",
        "    with open(file_path, 'r') as file:\n",
        "        for line in file:\n",
        "            yield line.rstrip('\\n')  # Remove the newline character at the end of each line\n"
      ],
      "metadata": {
        "id": "J6JuvJ4aManT"
      },
      "execution_count": null,
      "outputs": []
    },
    {
      "cell_type": "markdown",
      "source": [
        "Usage\n",
        "You can use this generator function in a loop to process each line of the file. Here’s an example:"
      ],
      "metadata": {
        "id": "OxSWtOvnopWL"
      }
    },
    {
      "cell_type": "code",
      "source": [
        "file_path = 'example.txt'  # Replace with your file path\n",
        "\n",
        "for line in read_file_line_by_line(file_path):\n",
        "    print(line)  # Process each line as needed\n"
      ],
      "metadata": {
        "id": "k2Tru1WJZbOA"
      },
      "execution_count": null,
      "outputs": []
    },
    {
      "cell_type": "markdown",
      "source": [
        "Explanation\n",
        "The with open(file_path, 'r') as file: line opens the file and ensures it is properly closed after reading.\n",
        "The for line in file: loop iterates over each line in the file.\n",
        "The yield statement returns each line one at a time, allowing for efficient memory usage, especially with large files."
      ],
      "metadata": {
        "id": "jEH_M9uBoy58"
      }
    },
    {
      "cell_type": "markdown",
      "source": [
        "##8= Use a lamda function in python to sort a list of the tuples based on second element of each tuples.\n",
        "Ans = Here is an example of how to use a lambda function to sort a list of tuples based on the second element of each tuple:"
      ],
      "metadata": {
        "id": "7zWrJs0lpllI"
      }
    },
    {
      "cell_type": "code",
      "source": [
        "tuples_list = [(1, 3), (2, 1), (3, 2), (4, 4)]\n",
        "\n",
        "sorted_tuples = sorted(tuples_list, key=lambda x: x[1])\n",
        "\n",
        "print(sorted_tuples)"
      ],
      "metadata": {
        "id": "UtgdsG0xot-y"
      },
      "execution_count": null,
      "outputs": []
    },
    {
      "cell_type": "code",
      "source": [
        "[(2, 1), (3, 2), (1, 3), (4, 4)]"
      ],
      "metadata": {
        "id": "cWGGNqi8qgp-"
      },
      "execution_count": null,
      "outputs": []
    },
    {
      "cell_type": "markdown",
      "source": [
        "Here's an explanation of how the code works:\n",
        "\n",
        "The sorted() function takes a list as input and returns a new sorted list.\n",
        "The key parameter of the sorted() function specifies a function that takes a list element as input and returns a value that will be used for sorting.\n",
        "In this case, we use a lambda function as the key function. The lambda function takes a tuple as input and returns the second element of the tuple (x[1]).\n",
        "The sorted() function uses the lambda function to extract the second element of each tuple and sorts the list based on those values.\n",
        "Note that the lambda function is equivalent to a regular function defined as:"
      ],
      "metadata": {
        "id": "YXHRZTASqsgi"
      }
    },
    {
      "cell_type": "code",
      "source": [
        "def sort_key(tup):\n",
        "    return tup[1]"
      ],
      "metadata": {
        "id": "5C6pA7VQqowd"
      },
      "execution_count": null,
      "outputs": []
    },
    {
      "cell_type": "markdown",
      "source": [
        "But the lambda function is a more concise way to define a small, one-time-use function."
      ],
      "metadata": {
        "id": "TWi4WN_1qyc7"
      }
    },
    {
      "cell_type": "markdown",
      "source": [
        "##9 Write a python programme that uses 'map()' to convert a list of temperatures from Celsius to Fahrenheit.\n",
        "Ans=  Here is a Python program that uses the map() function to convert a list of temperatures from Celsius to Fahrenheit:"
      ],
      "metadata": {
        "id": "cc1Dda3Oq1BV"
      }
    },
    {
      "cell_type": "code",
      "source": [
        "def celsius_to_fahrenheit(celsius):\n",
        "    \"\"\"\n",
        "    Convert a temperature from Celsius to Fahrenheit.\n",
        "    \"\"\"\n",
        "    return (celsius * 9/5) + 32\n",
        "\n",
        "# Example list of temperatures in Celsius\n",
        "temperatures_celsius = [0, 10, 20, 30, 40]\n",
        "\n",
        "# Use map() to convert the list to Fahrenheit\n",
        "temperatures_fahrenheit = list(map(celsius_to_fahrenheit, temperatures_celsius))\n",
        "\n",
        "print(\"Temperatures in Fahrenheit:\", temperatures_fahrenheit)"
      ],
      "metadata": {
        "id": "_DONNQ3lqvrC"
      },
      "execution_count": null,
      "outputs": []
    },
    {
      "cell_type": "markdown",
      "source": [
        "This will output:"
      ],
      "metadata": {
        "id": "Astyku9ZsDOu"
      }
    },
    {
      "cell_type": "code",
      "source": [
        "Temperatures in Fahrenheit: [32.0, 50.0, 68.0, 86.0, 104.0]"
      ],
      "metadata": {
        "id": "hG5jDP-Dr1W0"
      },
      "execution_count": null,
      "outputs": []
    },
    {
      "cell_type": "markdown",
      "source": [
        "Here's an explanation of how the code works:\n",
        "\n",
        "The celsius_to_fahrenheit() function takes a temperature in Celsius as input and returns the equivalent temperature in Fahrenheit.\n",
        "The map() function takes two arguments: a function and an iterable. It applies the function to each element of the iterable and returns a new iterable with the results.\n",
        "In this case, we pass the celsius_to_fahrenheit() function and the temperatures_celsius list to map().\n",
        "The map() function applies the celsius_to_fahrenheit() function to each element of the temperatures_celsius list, converting each temperature from Celsius to Fahrenheit.\n",
        "The resulting iterable is converted to a list using the list() function, and the resulting list is assigned to the temperatures_fahrenheit variable.\n",
        "Note that the map() function returns an iterable, not a list. If you need to use the result as a list, you need to convert it using the list() function."
      ],
      "metadata": {
        "id": "0uGVsQdasPED"
      }
    },
    {
      "cell_type": "markdown",
      "source": [
        "## 10 - Create a python program that uses a 'filter()' to remove all the vowels from the given string .\n",
        "Ans = Here is a Python program that uses the filter() function to remove all the vowels from a given string:"
      ],
      "metadata": {
        "id": "Btz2VrUEsXl4"
      }
    },
    {
      "cell_type": "code",
      "source": [
        "def remove_vowels(char):\n",
        "    \"\"\"\n",
        "    Return True if the character is not a vowel, False otherwise.\n",
        "    \"\"\"\n",
        "    vowels = 'aeiouAEIOU'\n",
        "    return char not in vowels\n",
        "\n",
        "# Example string\n",
        "input_string = \"Hello, World!\"\n",
        "\n",
        "# Use filter() to remove vowels from the string\n",
        "output_string = ''.join(filter(remove_vowels, input_string))\n",
        "\n",
        "print(\"Input string:\", input_string)\n",
        "print(\"Output string:\", output_string)"
      ],
      "metadata": {
        "id": "M7jF9pSWsN-z"
      },
      "execution_count": null,
      "outputs": []
    },
    {
      "cell_type": "code",
      "source": [
        "Input string: Hello, World!\n",
        "Output string: Hll, Wrld!"
      ],
      "metadata": {
        "id": "kCBb-1hwuFE7"
      },
      "execution_count": null,
      "outputs": []
    },
    {
      "cell_type": "markdown",
      "source": [
        "Here's an explanation of how the code works:\n",
        "\n",
        "The remove_vowels() function takes a character as input and returns True if the character is not a vowel, and False otherwise.\n",
        "The filter() function takes two arguments: a function and an iterable. It applies the function to each element of the iterable and returns a new iterable with the elements for which the function returns True.\n",
        "In this case, we pass the remove_vowels() function and the input_string to filter().\n",
        "The filter() function applies the remove_vowels() function to each character of the input_string, and returns a new iterable with the characters that are not vowels.\n",
        "The resulting iterable is converted to a string using the ''.join() method, and the resulting string is assigned to the output_string variable.\n",
        "Note that the filter() function returns an iterable, not a string. If you need to use the result as a string, you need to convert it using the ''.join() method."
      ],
      "metadata": {
        "id": "XiHyo8cWuuej"
      }
    },
    {
      "cell_type": "markdown",
      "source": [
        "## 11- Imagine an accounting routine used in book shop . It works on a list shop .\n",
        "\n",
        "\n",
        "\n",
        "order No.    Book Title and Author        Quantity     Price Per Item\n",
        "34587        Learning Python,Mark Lutz     4              40.95\n",
        "98762        Proramming Python,Mark Lutz   5              56.80\n",
        "77226        Head First Python,Paul berry  3              32.95\n",
        "88112        Einfuhrung in Python3,Bernd Klein 3          24.99\n",
        "\n",
        "Write a Python program, which returns a list with 2 tuples.Each tuple consists of the order number and the product of the price per item and the quantity. The product should be increased by 10,,- € if the value of the order is smaller than 100,00 €.\n",
        "Write a Python program using lambda and map.\n",
        "\n",
        "Ans=  Here is a Python program that uses lambda and map to calculate the total cost of each order and add a 10,- € surcharge if the total cost is less than 100,00 €:"
      ],
      "metadata": {
        "id": "gQMEVjPvu3fM"
      }
    },
    {
      "cell_type": "code",
      "source": [
        "# Define the list of orders\n",
        "orders = [\n",
        "    (34587, \"Learning Python,Mark Lutz\", 4, 40.95),\n",
        "    (98762, \"Proramming Python,Mark Lutz\", 5, 56.80),\n",
        "    (77226, \"Head First Python,Paul berry\", 3, 32.95),\n",
        "    (88112, \"Einfuhrung in Python3,Bernd Klein\", 3, 24.99)\n",
        "]\n",
        "\n",
        "# Define a lambda function to calculate the total cost and add a surcharge if necessary\n",
        "calculate_total_cost = lambda order: (order[0], order[3] * order[2] + (10 if order[3] * order[2] < 100 else 0))\n",
        "\n",
        "# Use map to apply the lambda function to each order\n",
        "total_costs = list(map(calculate_total_cost, orders))\n",
        "\n",
        "print(total_costs)"
      ],
      "metadata": {
        "id": "KQCVsIGZupEo"
      },
      "execution_count": null,
      "outputs": []
    },
    {
      "cell_type": "code",
      "source": [
        "[(34587, 163.8), (98762, 284.0), (77226, 98.85), (88112, 74.97)]"
      ],
      "metadata": {
        "id": "dFiAdQVA6-bb"
      },
      "execution_count": null,
      "outputs": []
    },
    {
      "cell_type": "markdown",
      "source": [
        "Here's an explanation of how the code works:\n",
        "\n",
        "The orders list contains tuples representing each order, with the order number, book title and author, quantity, and price per item.\n",
        "The calculate_total_cost lambda function takes an order tuple as input and returns a tuple containing the order number and the total cost of the order. The total cost is calculated by multiplying the price per item by the quantity, and adding a 10,- € surcharge if the total cost is less than 100,00 €.\n",
        "The map function applies the calculate_total_cost lambda function to each order in the orders list, and returns a new iterable with the results.\n",
        "The resulting iterable is converted to a list using the list function, and the resulting list is assigned to the total_costs variable.\n",
        "Note that the map function returns an iterable, not a list. If you need to use the result as a list, you need to convert it using the list function.\n",
        "\n",
        "Also, the lambda function uses a conditional expression to add the surcharge if the total cost is less than 100,00 €. This is a concise way to express the logic, but it may be less readable than a separate if statement."
      ],
      "metadata": {
        "id": "JpMcjsvC7GUV"
      }
    }
  ]
}